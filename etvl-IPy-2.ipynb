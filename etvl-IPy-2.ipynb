{
 "cells": [
  {
   "cell_type": "markdown",
   "metadata": {},
   "source": [
    "**Recuerde no agregar o quitar celdas en este notebook, ni modificar su tipo. Si lo hace, el sistema automaticamente lo calificará con cero punto cero (0.0)**"
   ]
  },
  {
   "cell_type": "markdown",
   "metadata": {},
   "source": [
    "# Descripción"
   ]
  },
  {
   "cell_type": "markdown",
   "metadata": {},
   "source": [
    "Esta tarea tiene como fin ayudarlo a profundizar sus conocimientos en programación con el lenguaje Python usando Pandas. En la siguiente celda importaré algunas librerias y leeré algunos archivos por usted."
   ]
  },
  {
   "cell_type": "code",
   "execution_count": 17,
   "metadata": {
    "collapsed": true
   },
   "outputs": [],
   "source": [
    "###__test__\n",
    "import pandas\n",
    "customer    = pandas.read_table('customer',    sep = ',', decimal = '.')\n",
    "employee    = pandas.read_table('employee',    sep = ',', decimal = '.')\n",
    "family      = pandas.read_table('family',      sep = ',', decimal = '.')\n",
    "order2000   = pandas.read_table('order2000',   sep = ',', decimal = '.')\n",
    "order2001   = pandas.read_table('order2001',   sep = ',', decimal = '.')\n",
    "order2002   = pandas.read_table('order2002',   sep = ',', decimal = '.')\n",
    "order2003   = pandas.read_table('order2003',   sep = ',', decimal = '.')\n",
    "order2004   = pandas.read_table('order2004',   sep = ',', decimal = '.')\n",
    "order2005   = pandas.read_table('order2005',   sep = ',', decimal = '.')\n",
    "order2006   = pandas.read_table('order2006',   sep = ',', decimal = '.')\n",
    "order2007   = pandas.read_table('order2007',   sep = ',', decimal = '.')\n",
    "order2008   = pandas.read_table('order2008',   sep = ',', decimal = '.')\n",
    "order2009   = pandas.read_table('order2009',   sep = ',', decimal = '.')\n",
    "order2010   = pandas.read_table('order2010',   sep = ',', decimal = '.')\n",
    "order2011   = pandas.read_table('order2011',   sep = ',', decimal = '.')\n",
    "order2012   = pandas.read_table('order2012',   sep = ',', decimal = '.')\n",
    "order2013   = pandas.read_table('order2013',   sep = ',', decimal = '.')\n",
    "order2014   = pandas.read_table('order2014',   sep = ',', decimal = '.')\n",
    "order2015   = pandas.read_table('order2015',   sep = ',', decimal = '.')\n",
    "order2016   = pandas.read_table('order2016',   sep = ',', decimal = '.')\n",
    "orderdetail = pandas.read_table('orderdetail', sep = ',', decimal = '.')\n",
    "product     = pandas.read_table('product',     sep = ',', decimal = '.')\n",
    "supplier    = pandas.read_table('supplier',    sep = ',', decimal = '.')"
   ]
  },
  {
   "cell_type": "markdown",
   "metadata": {},
   "source": [
    "# Problema 1"
   ]
  },
  {
   "cell_type": "markdown",
   "metadata": {},
   "source": [
    "Imprima el valor del campo `ssn` (uno por línea) para los registros 2, 6 y 8 del archivo `employee`."
   ]
  },
  {
   "cell_type": "code",
   "execution_count": 96,
   "metadata": {},
   "outputs": [
    {
     "name": "stdout",
     "output_type": "stream",
     "text": [
      "496-99-2998\n",
      "323-35-2171\n",
      "496-24-5751\n"
     ]
    }
   ],
   "source": [
    "l = [1,5,7]\n",
    "#print(employee.iloc[[1,7,9]].ssn)\n",
    "for z in l:\n",
    "    print(employee.ssn[z])\n",
    "    "
   ]
  },
  {
   "cell_type": "markdown",
   "metadata": {},
   "source": [
    "# Problema 2"
   ]
  },
  {
   "cell_type": "markdown",
   "metadata": {},
   "source": [
    "Imprima el total de registros (uno por línea) para los archivos `employee`, `product` y `orderdetail`."
   ]
  },
  {
   "cell_type": "code",
   "execution_count": 19,
   "metadata": {},
   "outputs": [
    {
     "name": "stdout",
     "output_type": "stream",
     "text": [
      "50\n",
      "146\n",
      "25946\n"
     ]
    }
   ],
   "source": [
    "#\n",
    "# escriba su codigo aqui\n",
    "#\n",
    "lista = ['employee','product','orderdetail']\n",
    "for i in lista:\n",
    "    print(len(eval(i)))"
   ]
  },
  {
   "cell_type": "markdown",
   "metadata": {},
   "source": [
    "# Problema 3"
   ]
  },
  {
   "cell_type": "markdown",
   "metadata": {},
   "source": [
    "Escriba una función `f` que reciba el nombre de un departamento y cuente cuantos registros hay para dicho departamento en el archivo `employee`. "
   ]
  },
  {
   "cell_type": "code",
   "execution_count": 20,
   "metadata": {
    "collapsed": true
   },
   "outputs": [],
   "source": [
    "def f(departamento):\n",
    "    return employee.department[employee.department == departamento].count()"
   ]
  },
  {
   "cell_type": "code",
   "execution_count": 35,
   "metadata": {},
   "outputs": [
    {
     "name": "stdout",
     "output_type": "stream",
     "text": [
      "4\n",
      "3\n",
      "3\n",
      "1\n",
      "21\n"
     ]
    }
   ],
   "source": [
    "###__test__\n",
    "print(f(\"Accounting\"))\n",
    "print(f(\"Advertising\"))\n",
    "print(f(\"Asset Management\"))\n",
    "print(f(\"Media Relations\"))\n",
    "print(f(\"Sales and Marketing\"))"
   ]
  },
  {
   "cell_type": "markdown",
   "metadata": {},
   "source": [
    "# Problema 4"
   ]
  },
  {
   "cell_type": "markdown",
   "metadata": {},
   "source": [
    "Imprima una tabla con la cantidad de empleados nacidos por año, ordenada por año y un año por línea. Use un espacio en blanco para separar el año y la cantidad de personas; por ejemplo, '1969 2'. "
   ]
  },
  {
   "cell_type": "code",
   "execution_count": 44,
   "metadata": {},
   "outputs": [
    {
     "name": "stdout",
     "output_type": "stream",
     "text": [
      "1969 2\n",
      "1970 2\n",
      "1971 5\n",
      "1972 1\n",
      "1973 1\n",
      "1974 1\n",
      "1975 2\n",
      "1976 4\n",
      "1977 3\n",
      "1978 1\n",
      "1979 5\n",
      "1980 4\n",
      "1981 2\n",
      "1982 2\n",
      "1983 1\n",
      "1984 2\n",
      "1985 3\n",
      "1986 3\n",
      "1987 1\n",
      "1988 3\n",
      "1990 2\n"
     ]
    }
   ],
   "source": [
    "#\n",
    "# escriba su codigo aqui\n",
    "#\n",
    "year = []\n",
    "y = []\n",
    "year = [z[1].split('-')[0] for z in employee.birthdate.str.split('+')]\n",
    "y = list(set(year))\n",
    "y.sort()\n",
    "for i in y:\n",
    "    print(i + ' ' + str(year.count(i)))"
   ]
  },
  {
   "cell_type": "markdown",
   "metadata": {},
   "source": [
    "# Problema 5"
   ]
  },
  {
   "cell_type": "markdown",
   "metadata": {},
   "source": [
    "Imprima una lista con las ciudades del archivo `employee` ordenadas alfabéticamente y sin repetir ciudad. Imprima una ciudad por renglón. "
   ]
  },
  {
   "cell_type": "code",
   "execution_count": 45,
   "metadata": {},
   "outputs": [
    {
     "name": "stdout",
     "output_type": "stream",
     "text": [
      "BELLEFONTE\n",
      "BLAINE\n",
      "BURNS FLAT\n",
      "CEDAR HILL\n",
      "CHANCELLOR\n",
      "CHARLOTTESVILLE\n",
      "CHESHIRE\n",
      "COPELAND\n",
      "FT MITCHELL\n",
      "GARRISON\n",
      "GRANDVIEW\n",
      "MANISTIQUE\n",
      "MONTCLAIR\n",
      "PAWCATUCK\n",
      "RIDGEFIELD\n",
      "RUIDOSO\n",
      "SANTA BARBARA\n",
      "SARASOTA\n",
      "TALLASSEE\n",
      "TAWAS CITY\n",
      "TEHACHAPI\n",
      "TERRA\n",
      "WINTER HAVEN\n"
     ]
    }
   ],
   "source": [
    "#\n",
    "# escriba su codigo aqui\n",
    "#\n",
    "city = list(set(employee.city))\n",
    "city.sort()\n",
    "for c in city:\n",
    "    print(c)"
   ]
  },
  {
   "cell_type": "markdown",
   "metadata": {},
   "source": [
    "# Problema 6"
   ]
  },
  {
   "cell_type": "markdown",
   "metadata": {},
   "source": [
    "Imprima una lista con las ciudades del archivo `employee` ordenadas alfabéticamente indicando cuántas veces aparece cada ciudad en el archivo. Imprima una ciudad por renglón. Separe la ciudad y la cantidad por un espacio en blanco; por ejemplo: 'BELLEFONTE 3'."
   ]
  },
  {
   "cell_type": "code",
   "execution_count": 48,
   "metadata": {},
   "outputs": [
    {
     "name": "stdout",
     "output_type": "stream",
     "text": [
      "BELLEFONTE 3\n",
      "BLAINE 1\n",
      "BURNS FLAT 2\n",
      "CEDAR HILL 2\n",
      "CHANCELLOR 2\n",
      "CHARLOTTESVILLE 1\n",
      "CHESHIRE 1\n",
      "COPELAND 5\n",
      "FT MITCHELL 1\n",
      "GARRISON 2\n",
      "GRANDVIEW 2\n",
      "MANISTIQUE 2\n",
      "MONTCLAIR 3\n",
      "PAWCATUCK 4\n",
      "RIDGEFIELD 1\n",
      "RUIDOSO 1\n",
      "SANTA BARBARA 2\n",
      "SARASOTA 5\n",
      "TALLASSEE 1\n",
      "TAWAS CITY 2\n",
      "TEHACHAPI 1\n",
      "TERRA 3\n",
      "WINTER HAVEN 3\n"
     ]
    }
   ],
   "source": [
    "#\n",
    "# escriba su codigo aqui\n",
    "#\n",
    "city = []\n",
    "c = []\n",
    "city = list(employee.city)\n",
    "c = list(set(city))\n",
    "c.sort()\n",
    "for i in c:\n",
    "    print(i + ' ' + str(city.count(i)))"
   ]
  },
  {
   "cell_type": "markdown",
   "metadata": {},
   "source": [
    "# Problema 7"
   ]
  },
  {
   "cell_type": "markdown",
   "metadata": {},
   "source": [
    "Imprima, por cada ciudad diferente del archivo `employee`, cuántos registros quedan si se eliminan todos los registros que contienen dicha ciudad. Imprima la lista ordenada alfabéticamente. Separe la ciudad y la cantidad usando un espacio en blanco; por ejemplo: `'BELLEFONTE 47'`."
   ]
  },
  {
   "cell_type": "code",
   "execution_count": 51,
   "metadata": {},
   "outputs": [
    {
     "name": "stdout",
     "output_type": "stream",
     "text": [
      "BELLEFONTE 47\n",
      "BLAINE 49\n",
      "BURNS FLAT 48\n",
      "CEDAR HILL 48\n",
      "CHANCELLOR 48\n",
      "CHARLOTTESVILLE 49\n",
      "CHESHIRE 49\n",
      "COPELAND 45\n",
      "FT MITCHELL 49\n",
      "GARRISON 48\n",
      "GRANDVIEW 48\n",
      "MANISTIQUE 48\n",
      "MONTCLAIR 47\n",
      "PAWCATUCK 46\n",
      "RIDGEFIELD 49\n",
      "RUIDOSO 49\n",
      "SANTA BARBARA 48\n",
      "SARASOTA 45\n",
      "TALLASSEE 49\n",
      "TAWAS CITY 48\n",
      "TEHACHAPI 49\n",
      "TERRA 47\n",
      "WINTER HAVEN 47\n"
     ]
    }
   ],
   "source": [
    "#\n",
    "# escriba su codigo aqui\n",
    "#\n",
    "city = list(set(employee.city))\n",
    "city.sort()\n",
    "for c in city:\n",
    "    print(c + ' ' + str(len(employee.city) - employee.city[employee.city == c].count()))"
   ]
  },
  {
   "cell_type": "markdown",
   "metadata": {},
   "source": [
    "# Problema 8"
   ]
  },
  {
   "cell_type": "markdown",
   "metadata": {},
   "source": [
    "Escriba una función que reciba el nombre completo de un hijo (campo `fullname` del archivo `family`), y devuelva el primer nombre (`fullname`) del padre. "
   ]
  },
  {
   "cell_type": "code",
   "execution_count": 65,
   "metadata": {
    "collapsed": true
   },
   "outputs": [],
   "source": [
    "def f(fullname):\n",
    "    #\n",
    "    # escriba su codigo aqui\n",
    "    #\n",
    "    parentid  = family['parent.id'][family.fullname == fullname]\n",
    "    parentname = list(employee.fullname[employee['employee.id'] == int(parentid)])\n",
    "    return(parentname[0].split(' ')[0])"
   ]
  },
  {
   "cell_type": "code",
   "execution_count": 66,
   "metadata": {},
   "outputs": [
    {
     "name": "stdout",
     "output_type": "stream",
     "text": [
      "Jermaine\n",
      "Gerald\n",
      "Matt\n",
      "Bailey\n"
     ]
    }
   ],
   "source": [
    "###__test__\n",
    "print(f('Jean Bailey'))\n",
    "print(f('Berneice Neil'))\n",
    "print(f('Mammie Montano'))\n",
    "print(f('Nettie Beasley'))"
   ]
  },
  {
   "cell_type": "markdown",
   "metadata": {},
   "source": [
    "# Problema 9"
   ]
  },
  {
   "cell_type": "markdown",
   "metadata": {},
   "source": [
    "Escriba una función que reciba el número de orden (`order.id`) y devuelva el nombre completo (`fullname`) del empleado que la atendio."
   ]
  },
  {
   "cell_type": "code",
   "execution_count": 67,
   "metadata": {
    "collapsed": true
   },
   "outputs": [],
   "source": [
    "def f(orderid):\n",
    "    #\n",
    "    # escriba su codigo aqui\n",
    "    #\n",
    "    ordenes = pandas.concat([order2000,order2001,order2002,order2003,order2004,order2005,order2006,order2007,order2008,order2009,order2010,order2011,order2012,order2013,order2014,order2015,order2016], ignore_index = True)\n",
    "    empid = ordenes['employee.id'][ordenes['order.id'] == orderid]\n",
    "    fullname = list(employee.fullname[employee['employee.id'] == int(empid)])\n",
    "    return(fullname[0])"
   ]
  },
  {
   "cell_type": "code",
   "execution_count": 68,
   "metadata": {},
   "outputs": [
    {
     "name": "stdout",
     "output_type": "stream",
     "text": [
      "Christy Petry\n",
      "Damaris Parry\n",
      "Bailey Beasley\n"
     ]
    }
   ],
   "source": [
    "###__test__\n",
    "print(f(309))\n",
    "print(f(653))\n",
    "print(f(996))"
   ]
  },
  {
   "cell_type": "markdown",
   "metadata": {},
   "source": [
    "# Problema 10"
   ]
  },
  {
   "cell_type": "markdown",
   "metadata": {},
   "source": [
    "Escriba una función que reciba el número de orden (`order.id`) y devuelva el nombre completo (`fullname`) del cliente que la solicitó."
   ]
  },
  {
   "cell_type": "code",
   "execution_count": 71,
   "metadata": {
    "collapsed": true
   },
   "outputs": [],
   "source": [
    "def f(orderid):\n",
    "    #\n",
    "    # escriba su codigo aqui\n",
    "    #\n",
    "    ordenes = pandas.concat([order2000,order2001,order2002,order2003,order2004,order2005,order2006,order2007,order2008,order2009,order2010,order2011,order2012,order2013,order2014,order2015,order2016], ignore_index = True)\n",
    "    customerid = ordenes['customer.id'][ordenes['order.id'] == orderid]\n",
    "    fullname = list(customer.fullname[customer['customer.id'] == int(customerid)])\n",
    "    return(fullname[0])"
   ]
  },
  {
   "cell_type": "code",
   "execution_count": 72,
   "metadata": {},
   "outputs": [
    {
     "name": "stdout",
     "output_type": "stream",
     "text": [
      "Carmen Zimmerman\n",
      "Theodore Pernell\n",
      "Marilynn Laws\n"
     ]
    }
   ],
   "source": [
    "###__test__\n",
    "print(f(309))\n",
    "print(f(653))\n",
    "print(f(996))"
   ]
  },
  {
   "cell_type": "markdown",
   "metadata": {},
   "source": [
    "# Problema 11"
   ]
  },
  {
   "cell_type": "markdown",
   "metadata": {},
   "source": [
    "Escriba una función que reciba el nombre de un empleado (`fullname`) y retorne la cantidad de órdenes atendidas por él."
   ]
  },
  {
   "cell_type": "code",
   "execution_count": 73,
   "metadata": {
    "collapsed": true
   },
   "outputs": [],
   "source": [
    "def f(fullname):\n",
    "    #\n",
    "    # escriba su codigo aqui\n",
    "    #\n",
    "    ordenes = pandas.concat([order2000,order2001,order2002,order2003,order2004,order2005,order2006,order2007,order2008,order2009,order2010,order2011,order2012,order2013,order2014,order2015,order2016], ignore_index = True)\n",
    "    empid = employee['employee.id'][employee.fullname == fullname ]\n",
    "    return (ordenes['order.id'][ordenes['employee.id'] == int(empid)].count())"
   ]
  },
  {
   "cell_type": "code",
   "execution_count": 74,
   "metadata": {},
   "outputs": [
    {
     "name": "stdout",
     "output_type": "stream",
     "text": [
      "238\n",
      "225\n",
      "270\n"
     ]
    }
   ],
   "source": [
    "###__test__\n",
    "print(f('Christy Petry'))\n",
    "print(f('Gisela Strong'))\n",
    "print(f('Ellis Ervin'))"
   ]
  },
  {
   "cell_type": "markdown",
   "metadata": {},
   "source": [
    "# Problema 12"
   ]
  },
  {
   "cell_type": "markdown",
   "metadata": {},
   "source": [
    "Escriba una función que reciba el nombre de un empleado y retorne el valor mínino del campo `order.id` del total de ordenes que atendió. "
   ]
  },
  {
   "cell_type": "code",
   "execution_count": 77,
   "metadata": {
    "collapsed": true
   },
   "outputs": [],
   "source": [
    "def f(fullname):\n",
    "    #\n",
    "    # escriba su codigo aqui\n",
    "    #\n",
    "    ordenes = pandas.concat([order2000,order2001,order2002,order2003,order2004,order2005,order2006,order2007,order2008,order2009,order2010,order2011,order2012,order2013,order2014,order2015,order2016], ignore_index = True)\n",
    "    empid = employee['employee.id'][employee.fullname == fullname ]\n",
    "    return (ordenes['order.id'][ordenes['employee.id'] == int(empid)].min())"
   ]
  },
  {
   "cell_type": "code",
   "execution_count": 78,
   "metadata": {},
   "outputs": [
    {
     "name": "stdout",
     "output_type": "stream",
     "text": [
      "14\n",
      "27\n",
      "20\n"
     ]
    }
   ],
   "source": [
    "###__test__\n",
    "print(f('Christy Petry'))\n",
    "print(f('Gisela Strong'))\n",
    "print(f('Ellis Ervin'))"
   ]
  },
  {
   "cell_type": "markdown",
   "metadata": {},
   "source": [
    "# Problema 13"
   ]
  },
  {
   "cell_type": "markdown",
   "metadata": {},
   "source": [
    "Escriba una función que reciba el `order.id` de una orden y retorne el cálculo del valor total de la orden."
   ]
  },
  {
   "cell_type": "code",
   "execution_count": 79,
   "metadata": {
    "collapsed": true
   },
   "outputs": [],
   "source": [
    "def f(orderid):\n",
    "    #\n",
    "    # escriba su codigo aqui\n",
    "    #\n",
    "    orderdetail['Total'] = orderdetail.quantity*orderdetail.price\n",
    "    return (orderdetail['Total'][orderdetail['order.id'] == orderid].sum())"
   ]
  },
  {
   "cell_type": "code",
   "execution_count": 80,
   "metadata": {
    "scrolled": false
   },
   "outputs": [
    {
     "name": "stdout",
     "output_type": "stream",
     "text": [
      "2572\n",
      "2979\n",
      "9317\n"
     ]
    }
   ],
   "source": [
    "###__test__\n",
    "print(f(1))\n",
    "print(f(2))\n",
    "print(f(3))"
   ]
  },
  {
   "cell_type": "markdown",
   "metadata": {},
   "source": [
    "# Problema 14"
   ]
  },
  {
   "cell_type": "markdown",
   "metadata": {},
   "source": [
    "Imprima la cantidad de empleados que nacieron en cada uno de los trimestres (`Q1`, `Q2`, `Q3`, `Q4`) del año. Imprima un trimestre por reglón, separando las cantidades por un espacio en blanco. Por ejemplo: `'Q1 18'`. "
   ]
  },
  {
   "cell_type": "code",
   "execution_count": 95,
   "metadata": {},
   "outputs": [
    {
     "name": "stdout",
     "output_type": "stream",
     "text": [
      "Q1 16\n",
      "Q2 9\n",
      "Q3 14\n",
      "Q4 11\n"
     ]
    }
   ],
   "source": [
    "#\n",
    "# escriba su codigo aqui\n",
    "#\n",
    "c=1\n",
    "employee['Q'] = pandas.to_datetime(employee.birthdate,format='%a+%Y-%m-%d+%H:%M:%S').dt.quarter\n",
    "lista = list(employee['Q'].value_counts(sort=False))\n",
    "for i in lista:\n",
    "    print ('Q' + str(c) + ' ' + str(i))\n",
    "    c += 1"
   ]
  },
  {
   "cell_type": "markdown",
   "metadata": {},
   "source": [
    "# Problema 15"
   ]
  },
  {
   "cell_type": "markdown",
   "metadata": {},
   "source": [
    "Escriba una función que reciba un grupo de cuatro dígitos e imprima la cantidad de veces que aparece dicho número en el segundo grupo de dígitos de todos los números telefónicos."
   ]
  },
  {
   "cell_type": "code",
   "execution_count": 92,
   "metadata": {
    "collapsed": true
   },
   "outputs": [],
   "source": [
    "def f(num):\n",
    "    #\n",
    "    # escriba su codigo aqui\n",
    "    #\n",
    "    emp = employee.phone[employee.phone.str[5:9] == num].count()\n",
    "    sup = supplier.phone[supplier.phone.str[5:9] == num].count()\n",
    "    cust = customer.phone[customer.phone.str[5:9] == num].count()\n",
    "    return (emp + sup + cust)"
   ]
  },
  {
   "cell_type": "code",
   "execution_count": 93,
   "metadata": {},
   "outputs": [
    {
     "name": "stdout",
     "output_type": "stream",
     "text": [
      "23\n",
      "28\n",
      "26\n"
     ]
    }
   ],
   "source": [
    "###__test__\n",
    "print(f('1289'))\n",
    "print(f('2345'))\n",
    "print(f('4876'))"
   ]
  },
  {
   "cell_type": "markdown",
   "metadata": {},
   "source": [
    "---"
   ]
  }
 ],
 "metadata": {
  "kernelspec": {
   "display_name": "Python 3",
   "language": "python",
   "name": "python3"
  },
  "language_info": {
   "codemirror_mode": {
    "name": "ipython",
    "version": 3
   },
   "file_extension": ".py",
   "mimetype": "text/x-python",
   "name": "python",
   "nbconvert_exporter": "python",
   "pygments_lexer": "ipython3",
   "version": "3.6.1"
  }
 },
 "nbformat": 4,
 "nbformat_minor": 1
}
