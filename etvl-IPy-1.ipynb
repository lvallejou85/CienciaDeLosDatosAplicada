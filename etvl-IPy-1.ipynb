{
 "cells": [
  {
   "cell_type": "markdown",
   "metadata": {},
   "source": [
    "**Recuerde no agregar o quitar celdas en este notebook, ni modificar su tipo. Si lo hace, el sistema automaticamente lo calificará con cero punto cero (0.0)**"
   ]
  },
  {
   "cell_type": "markdown",
   "metadata": {},
   "source": [
    "# Descripción"
   ]
  },
  {
   "cell_type": "markdown",
   "metadata": {},
   "source": [
    "Esta tarea tiene como fin ayudarlo a profundizar sus conocimientos en programación con el lenguaje Python usando la PSL (Python Standard Library). En la siguiente celda importaré algunas librerias y leeré algunos archivos por usted."
   ]
  },
  {
   "cell_type": "code",
   "execution_count": 37,
   "metadata": {
    "collapsed": true
   },
   "outputs": [],
   "source": [
    "###__test__\n",
    "import csv\n",
    "\n",
    "with open('customer',    'r') as f: customer    = list(csv.reader(f, delimiter=',', quoting=csv.QUOTE_NONNUMERIC))\n",
    "with open('employee',    'r') as f: employee    = list(csv.reader(f, delimiter=',', quoting=csv.QUOTE_NONNUMERIC))\n",
    "with open('family',      'r') as f: family      = list(csv.reader(f, delimiter=',', quoting=csv.QUOTE_NONNUMERIC))\n",
    "with open('order2000',   'r') as f: order2000   = list(csv.reader(f, delimiter=',', quoting=csv.QUOTE_NONNUMERIC))\n",
    "with open('order2001',   'r') as f: order2001   = list(csv.reader(f, delimiter=',', quoting=csv.QUOTE_NONNUMERIC))\n",
    "with open('order2002',   'r') as f: order2002   = list(csv.reader(f, delimiter=',', quoting=csv.QUOTE_NONNUMERIC))\n",
    "with open('order2003',   'r') as f: order2003   = list(csv.reader(f, delimiter=',', quoting=csv.QUOTE_NONNUMERIC))\n",
    "with open('order2004',   'r') as f: order2004   = list(csv.reader(f, delimiter=',', quoting=csv.QUOTE_NONNUMERIC))\n",
    "with open('order2005',   'r') as f: order2005   = list(csv.reader(f, delimiter=',', quoting=csv.QUOTE_NONNUMERIC))\n",
    "with open('order2006',   'r') as f: order2006   = list(csv.reader(f, delimiter=',', quoting=csv.QUOTE_NONNUMERIC))\n",
    "with open('order2007',   'r') as f: order2007   = list(csv.reader(f, delimiter=',', quoting=csv.QUOTE_NONNUMERIC))\n",
    "with open('order2008',   'r') as f: order2008   = list(csv.reader(f, delimiter=',', quoting=csv.QUOTE_NONNUMERIC))\n",
    "with open('order2009',   'r') as f: order2009   = list(csv.reader(f, delimiter=',', quoting=csv.QUOTE_NONNUMERIC))\n",
    "with open('order2010',   'r') as f: order2010   = list(csv.reader(f, delimiter=',', quoting=csv.QUOTE_NONNUMERIC))\n",
    "with open('order2011',   'r') as f: order2011   = list(csv.reader(f, delimiter=',', quoting=csv.QUOTE_NONNUMERIC))\n",
    "with open('order2012',   'r') as f: order2012   = list(csv.reader(f, delimiter=',', quoting=csv.QUOTE_NONNUMERIC))\n",
    "with open('order2013',   'r') as f: order2013   = list(csv.reader(f, delimiter=',', quoting=csv.QUOTE_NONNUMERIC))\n",
    "with open('order2014',   'r') as f: order2014   = list(csv.reader(f, delimiter=',', quoting=csv.QUOTE_NONNUMERIC))\n",
    "with open('order2015',   'r') as f: order2015   = list(csv.reader(f, delimiter=',', quoting=csv.QUOTE_NONNUMERIC))\n",
    "with open('order2016',   'r') as f: order2016   = list(csv.reader(f, delimiter=',', quoting=csv.QUOTE_NONNUMERIC))\n",
    "with open('orderdetail', 'r') as f: orderdetail = list(csv.reader(f, delimiter=',', quoting=csv.QUOTE_NONNUMERIC))\n",
    "with open('product',     'r') as f: product     = list(csv.reader(f, delimiter=',', quoting=csv.QUOTE_NONNUMERIC))\n",
    "with open('supplier',    'r') as f: supplier    = list(csv.reader(f, delimiter=',', quoting=csv.QUOTE_NONNUMERIC))"
   ]
  },
  {
   "cell_type": "markdown",
   "metadata": {},
   "source": [
    "# Problema 1"
   ]
  },
  {
   "cell_type": "markdown",
   "metadata": {},
   "source": [
    "Imprima el valor del campo `ssn` (uno por línea) para los registros 2, 6 y 8 del archivo `employee`."
   ]
  },
  {
   "cell_type": "code",
   "execution_count": 38,
   "metadata": {},
   "outputs": [
    {
     "name": "stdout",
     "output_type": "stream",
     "text": [
      "496-99-2998\n",
      "323-35-2171\n",
      "496-24-5751\n"
     ]
    }
   ],
   "source": [
    "lista = [2,6,8]\n",
    "for i in lista:\n",
    "    print(employee[i][4])"
   ]
  },
  {
   "cell_type": "markdown",
   "metadata": {},
   "source": [
    "# Problema 2"
   ]
  },
  {
   "cell_type": "markdown",
   "metadata": {},
   "source": [
    "Imprima el total de registros (uno por línea) para los archivos `employee`, `product` y `orderdetail`."
   ]
  },
  {
   "cell_type": "code",
   "execution_count": 117,
   "metadata": {},
   "outputs": [
    {
     "name": "stdout",
     "output_type": "stream",
     "text": [
      "50\n",
      "146\n",
      "25946\n"
     ]
    }
   ],
   "source": [
    "lista = ['employee','product','orderdetail']\n",
    "for i in lista:\n",
    "    print(len(eval(i))-1)"
   ]
  },
  {
   "cell_type": "markdown",
   "metadata": {},
   "source": [
    "# Problema 3"
   ]
  },
  {
   "cell_type": "markdown",
   "metadata": {},
   "source": [
    "Escriba una función `f` que reciba el nombre de un departamento y cuente cuantos registros hay para dicho departamento en el archivo `employee`. "
   ]
  },
  {
   "cell_type": "code",
   "execution_count": 121,
   "metadata": {
    "collapsed": true
   },
   "outputs": [],
   "source": [
    "def f(departamento):\n",
    "    #\n",
    "    # escriba su codigo aqui\n",
    "    #\n",
    "    cantidad = 0\n",
    "    for i in employee:\n",
    "        if i[3] == departamento:\n",
    "            cantidad = cantidad + 1\n",
    "    print(cantidad)"
   ]
  },
  {
   "cell_type": "code",
   "execution_count": 122,
   "metadata": {},
   "outputs": [
    {
     "name": "stdout",
     "output_type": "stream",
     "text": [
      "4\n",
      "3\n",
      "3\n",
      "1\n",
      "21\n"
     ]
    }
   ],
   "source": [
    "###__test__\n",
    "f(\"Accounting\")\n",
    "f(\"Advertising\")\n",
    "f(\"Asset Management\")\n",
    "f(\"Media Relations\")\n",
    "f(\"Sales and Marketing\")"
   ]
  },
  {
   "cell_type": "markdown",
   "metadata": {},
   "source": [
    "# Problema 4"
   ]
  },
  {
   "cell_type": "markdown",
   "metadata": {},
   "source": [
    "Imprima una tabla con la cantidad de empleados nacidos por año, ordenada por año y un año por línea. Use un espacio en blanco para separar el año y la cantidad de personas; por ejemplo, '1969 2'. "
   ]
  },
  {
   "cell_type": "code",
   "execution_count": 124,
   "metadata": {
    "scrolled": true
   },
   "outputs": [
    {
     "name": "stdout",
     "output_type": "stream",
     "text": [
      "1969 2\n",
      "1970 2\n",
      "1971 5\n",
      "1972 1\n",
      "1973 1\n",
      "1974 1\n",
      "1975 2\n",
      "1976 4\n",
      "1977 3\n",
      "1978 1\n",
      "1979 5\n",
      "1980 4\n",
      "1981 2\n",
      "1982 2\n",
      "1983 1\n",
      "1984 2\n",
      "1985 3\n",
      "1986 3\n",
      "1987 1\n",
      "1988 3\n",
      "1990 2\n"
     ]
    }
   ],
   "source": [
    "#\n",
    "# escriba su codigo aqui\n",
    "#\n",
    "year = []\n",
    "y=[]\n",
    "for i in employee[1:]:\n",
    "    year.append(i[8].split('+')[1].split('-')[0])\n",
    "y = list(set(year))\n",
    "y.sort()\n",
    "for j in y:\n",
    "    print(j + ' ' + str(year.count(j)))"
   ]
  },
  {
   "cell_type": "markdown",
   "metadata": {},
   "source": [
    "# Problema 5"
   ]
  },
  {
   "cell_type": "markdown",
   "metadata": {},
   "source": [
    "Imprima una lista con las ciudades del archivo `employee` ordenadas alfabéticamente y sin repetir ciudad. Imprima una ciudad por renglón. "
   ]
  },
  {
   "cell_type": "code",
   "execution_count": 45,
   "metadata": {},
   "outputs": [
    {
     "name": "stdout",
     "output_type": "stream",
     "text": [
      "BELLEFONTE\n",
      "BLAINE\n",
      "BURNS FLAT\n",
      "CEDAR HILL\n",
      "CHANCELLOR\n",
      "CHARLOTTESVILLE\n",
      "CHESHIRE\n",
      "COPELAND\n",
      "FT MITCHELL\n",
      "GARRISON\n",
      "GRANDVIEW\n",
      "MANISTIQUE\n",
      "MONTCLAIR\n",
      "PAWCATUCK\n",
      "RIDGEFIELD\n",
      "RUIDOSO\n",
      "SANTA BARBARA\n",
      "SARASOTA\n",
      "TALLASSEE\n",
      "TAWAS CITY\n",
      "TEHACHAPI\n",
      "TERRA\n",
      "WINTER HAVEN\n"
     ]
    }
   ],
   "source": [
    "#\n",
    "# escriba su codigo aqui\n",
    "#\n",
    "y = []\n",
    "y = y + [i[6] for i in employee[1:]]\n",
    "y = list(set(y))\n",
    "y.sort()\n",
    "for j in y:\n",
    "    print(j)"
   ]
  },
  {
   "cell_type": "markdown",
   "metadata": {},
   "source": [
    "# Problema 6"
   ]
  },
  {
   "cell_type": "markdown",
   "metadata": {},
   "source": [
    "Imprima una lista con las ciudades del archivo `employee` ordenadas alfabéticamente indicando cuántas veces aparece cada ciudad en el archivo. Imprima una ciudad por renglón. Separe la ciudad y la cantidad por un espacio en blanco; por ejemplo: 'BELLEFONTE 3'."
   ]
  },
  {
   "cell_type": "code",
   "execution_count": 46,
   "metadata": {
    "scrolled": true
   },
   "outputs": [
    {
     "name": "stdout",
     "output_type": "stream",
     "text": [
      "BELLEFONTE 3\n",
      "BLAINE 1\n",
      "BURNS FLAT 2\n",
      "CEDAR HILL 2\n",
      "CHANCELLOR 2\n",
      "CHARLOTTESVILLE 1\n",
      "CHESHIRE 1\n",
      "COPELAND 5\n",
      "FT MITCHELL 1\n",
      "GARRISON 2\n",
      "GRANDVIEW 2\n",
      "MANISTIQUE 2\n",
      "MONTCLAIR 3\n",
      "PAWCATUCK 4\n",
      "RIDGEFIELD 1\n",
      "RUIDOSO 1\n",
      "SANTA BARBARA 2\n",
      "SARASOTA 5\n",
      "TALLASSEE 1\n",
      "TAWAS CITY 2\n",
      "TEHACHAPI 1\n",
      "TERRA 3\n",
      "WINTER HAVEN 3\n"
     ]
    }
   ],
   "source": [
    "#\n",
    "# escriba su codigo aqui\n",
    "#\n",
    "cities=[]\n",
    "c=[]\n",
    "for i in employee[1:]:\n",
    "    cities.append(i[6])\n",
    "c = list(set(cities))\n",
    "c.sort()\n",
    "for j in c:\n",
    "    print(j + ' ' + str(cities.count(j)))"
   ]
  },
  {
   "cell_type": "markdown",
   "metadata": {},
   "source": [
    "# Problema 7"
   ]
  },
  {
   "cell_type": "markdown",
   "metadata": {},
   "source": [
    "Imprima, por cada ciudad diferente del archivo `employee`, cuántos registros quedan si se eliminan todos los registros que contienen dicha ciudad. Imprima la lista ordenada alfabéticamente. Separe la ciudad y la cantidad usando un espacio en blanco; por ejemplo: `'BELLEFONTE 47'`."
   ]
  },
  {
   "cell_type": "code",
   "execution_count": 47,
   "metadata": {},
   "outputs": [
    {
     "name": "stdout",
     "output_type": "stream",
     "text": [
      "BELLEFONTE 47\n",
      "BLAINE 49\n",
      "BURNS FLAT 48\n",
      "CEDAR HILL 48\n",
      "CHANCELLOR 48\n",
      "CHARLOTTESVILLE 49\n",
      "CHESHIRE 49\n",
      "COPELAND 45\n",
      "FT MITCHELL 49\n",
      "GARRISON 48\n",
      "GRANDVIEW 48\n",
      "MANISTIQUE 48\n",
      "MONTCLAIR 47\n",
      "PAWCATUCK 46\n",
      "RIDGEFIELD 49\n",
      "RUIDOSO 49\n",
      "SANTA BARBARA 48\n",
      "SARASOTA 45\n",
      "TALLASSEE 49\n",
      "TAWAS CITY 48\n",
      "TEHACHAPI 49\n",
      "TERRA 47\n",
      "WINTER HAVEN 47\n"
     ]
    }
   ],
   "source": [
    "#\n",
    "# escriba su codigo aqui\n",
    "#\n",
    "cities = []\n",
    "c = []\n",
    "cities = cities + [i[6] for i in employee[1:]]\n",
    "c = list(set(cities))\n",
    "c.sort()\n",
    "for i in c:\n",
    "    print(i + ' ' + str(len(cities) - cities.count(i)))\n"
   ]
  },
  {
   "cell_type": "markdown",
   "metadata": {},
   "source": [
    "# Problema 8"
   ]
  },
  {
   "cell_type": "markdown",
   "metadata": {},
   "source": [
    "Escriba una función que reciba el nombre completo de un hijo (campo `fullname` del archivo `family`), y devuelva el primer nombre (`fullname`) del padre. "
   ]
  },
  {
   "cell_type": "code",
   "execution_count": 48,
   "metadata": {
    "collapsed": true
   },
   "outputs": [],
   "source": [
    "def f(fullname):\n",
    "    #\n",
    "    # escriba su codigo aqui\n",
    "    #\n",
    "    parentid = 0\n",
    "    for i in family[1:]:\n",
    "        if i[2] == fullname:\n",
    "            parentid = i[1]\n",
    "            for j in employee[1:]:\n",
    "                if parentid == j[1]:\n",
    "                    return j[2].split(' ')[0]\n",
    "                    break\n",
    "            break\n",
    "    else:\n",
    "        return 'No encontrado'"
   ]
  },
  {
   "cell_type": "code",
   "execution_count": 49,
   "metadata": {},
   "outputs": [
    {
     "name": "stdout",
     "output_type": "stream",
     "text": [
      "Jermaine\n",
      "Gerald\n",
      "Matt\n",
      "Bailey\n"
     ]
    }
   ],
   "source": [
    "###__test__\n",
    "print(f('Jean Bailey'))\n",
    "print(f('Berneice Neil'))\n",
    "print(f('Mammie Montano'))\n",
    "print(f('Nettie Beasley'))"
   ]
  },
  {
   "cell_type": "markdown",
   "metadata": {},
   "source": [
    "# Problema 9"
   ]
  },
  {
   "cell_type": "markdown",
   "metadata": {},
   "source": [
    "Escriba una función que reciba el número de orden (`order.id`) y devuelva el nombre completo (`fullname`) del empleado que la atendio."
   ]
  },
  {
   "cell_type": "code",
   "execution_count": 63,
   "metadata": {
    "collapsed": true
   },
   "outputs": [],
   "source": [
    "def f(orderid):\n",
    "    #\n",
    "    # escriba su codigo aqui\n",
    "    #\n",
    "    files = []\n",
    "    orders = []\n",
    "    for i in range(17):\n",
    "        if i < 10:\n",
    "            files.append('order200' + str(i))\n",
    "        else:\n",
    "            files.append('order20' + str(i))\n",
    "    for i in files:\n",
    "        orders = orders + eval(i)[1:]\n",
    "    empid = 0\n",
    "    for i in orders:\n",
    "        if i[1] == orderid:\n",
    "            empid = i[3]\n",
    "            for j in employee[1:]:\n",
    "                if empid == j[1]:\n",
    "                    return j[2]\n",
    "                    break\n",
    "            break\n",
    "    else:\n",
    "        return 'No encontrada'"
   ]
  },
  {
   "cell_type": "code",
   "execution_count": 64,
   "metadata": {},
   "outputs": [
    {
     "name": "stdout",
     "output_type": "stream",
     "text": [
      "Christy Petry\n",
      "Damaris Parry\n",
      "Bailey Beasley\n"
     ]
    }
   ],
   "source": [
    "###__test__\n",
    "print(f(309))\n",
    "print(f(653))\n",
    "print(f(996))"
   ]
  },
  {
   "cell_type": "markdown",
   "metadata": {},
   "source": [
    "# Problema 10"
   ]
  },
  {
   "cell_type": "markdown",
   "metadata": {},
   "source": [
    "Escriba una función que reciba el número de orden (`order.id`) y devuelva el nombre completo (`fullname`) del cliente que la solicitó."
   ]
  },
  {
   "cell_type": "code",
   "execution_count": 67,
   "metadata": {},
   "outputs": [],
   "source": [
    "def f(orderid):\n",
    "    #\n",
    "    # escriba su codigo aqui\n",
    "    #\n",
    "    files = []\n",
    "    orders = []\n",
    "    for i in range(17):\n",
    "        if i < 10:\n",
    "            files.append('order200' + str(i))\n",
    "        else:\n",
    "            files.append('order20' + str(i))\n",
    "    for i in files:\n",
    "        orders = orders + eval(i)[1:]\n",
    "    customerid = 0\n",
    "    for i in orders:\n",
    "        if i[1] == orderid:\n",
    "            customerid = i[2]\n",
    "            for j in customer[1:]:\n",
    "                if customerid == j[0]:\n",
    "                    return j[3]\n",
    "                    break\n",
    "            break\n",
    "    else:\n",
    "        return 'No encontrada'"
   ]
  },
  {
   "cell_type": "code",
   "execution_count": 68,
   "metadata": {},
   "outputs": [
    {
     "name": "stdout",
     "output_type": "stream",
     "text": [
      "Carmen Zimmerman\n",
      "Theodore Pernell\n",
      "Marilynn Laws\n"
     ]
    }
   ],
   "source": [
    "###__test__\n",
    "print(f(309))\n",
    "print(f(653))\n",
    "print(f(996))"
   ]
  },
  {
   "cell_type": "markdown",
   "metadata": {},
   "source": [
    "# Problema 11"
   ]
  },
  {
   "cell_type": "markdown",
   "metadata": {},
   "source": [
    "Escriba una función que reciba el nombre de un empleado (`fullname`) y retorne la cantidad de órdenes atendidas por él."
   ]
  },
  {
   "cell_type": "code",
   "execution_count": 70,
   "metadata": {
    "collapsed": true
   },
   "outputs": [],
   "source": [
    "def f(fullname):\n",
    "    #\n",
    "    # escriba su codigo aqui\n",
    "    #\n",
    "    empid = 0\n",
    "    cantidad = 0\n",
    "    files = []\n",
    "    orders = []\n",
    "    for i in range(17):\n",
    "        if i < 10:\n",
    "            files.append('order200' + str(i))\n",
    "        else:\n",
    "            files.append('order20' + str(i))\n",
    "    for i in files:\n",
    "        orders = orders + eval(i)[1:]\n",
    "\n",
    "    for i in employee[1:]:\n",
    "        if i[2] == fullname:\n",
    "            empid = i[1]\n",
    "            for j in orders:\n",
    "                if empid == j[3]:\n",
    "                    cantidad = cantidad + 1\n",
    "    return cantidad"
   ]
  },
  {
   "cell_type": "code",
   "execution_count": 71,
   "metadata": {},
   "outputs": [
    {
     "name": "stdout",
     "output_type": "stream",
     "text": [
      "238\n",
      "225\n",
      "270\n"
     ]
    }
   ],
   "source": [
    "###__test__\n",
    "print(f('Christy Petry'))\n",
    "print(f('Gisela Strong'))\n",
    "print(f('Ellis Ervin'))"
   ]
  },
  {
   "cell_type": "markdown",
   "metadata": {},
   "source": [
    "# Problema 12"
   ]
  },
  {
   "cell_type": "markdown",
   "metadata": {},
   "source": [
    "Escriba una función que reciba el nombre de un empleado y retorne el valor mínino del campo `order.id` del total de ordenes que atendió. "
   ]
  },
  {
   "cell_type": "code",
   "execution_count": 94,
   "metadata": {},
   "outputs": [],
   "source": [
    "def f(fullname):\n",
    "    #\n",
    "    # escriba su codigo aqui\n",
    "    #\n",
    "    empid = 0\n",
    "    files = []\n",
    "    orders = []\n",
    "    orderxemp = []\n",
    "    for i in range(17):\n",
    "        if i < 10:\n",
    "            files.append('order200' + str(i))\n",
    "        else:\n",
    "            files.append('order20' + str(i))\n",
    "    for i in files:\n",
    "        orders = orders + eval(i)[1:]\n",
    "\n",
    "    for i in employee[1:]:\n",
    "        if i[2] == fullname:\n",
    "            empid = i[1]\n",
    "            for j in orders:\n",
    "                if empid == j[3]:\n",
    "                    orderxemp = orderxemp + [j[1]]\n",
    "    return min(orderxemp)"
   ]
  },
  {
   "cell_type": "code",
   "execution_count": 95,
   "metadata": {},
   "outputs": [
    {
     "name": "stdout",
     "output_type": "stream",
     "text": [
      "14.0\n",
      "27.0\n",
      "20.0\n"
     ]
    }
   ],
   "source": [
    "###__test__\n",
    "print(f('Christy Petry'))\n",
    "print(f('Gisela Strong'))\n",
    "print(f('Ellis Ervin'))"
   ]
  },
  {
   "cell_type": "markdown",
   "metadata": {},
   "source": [
    "# Problema 13"
   ]
  },
  {
   "cell_type": "markdown",
   "metadata": {},
   "source": [
    "Escriba una función que reciba el `order.id` de una orden y retorne el cálculo del valor total de la orden."
   ]
  },
  {
   "cell_type": "code",
   "execution_count": 129,
   "metadata": {},
   "outputs": [],
   "source": [
    "def f(orderid):\n",
    "    #\n",
    "    # escriba su codigo aqui\n",
    "    #\n",
    "    total = 0\n",
    "\n",
    "    for i in orderdetail[1:]:\n",
    "        if i[1] == orderid:\n",
    "            total = total + i[4]*i[5]\n",
    "    return total"
   ]
  },
  {
   "cell_type": "code",
   "execution_count": 130,
   "metadata": {},
   "outputs": [
    {
     "name": "stdout",
     "output_type": "stream",
     "text": [
      "2572.0\n",
      "2979.0\n",
      "9317.0\n"
     ]
    }
   ],
   "source": [
    "###__test__\n",
    "print(f(1))\n",
    "print(f(2))\n",
    "print(f(3))"
   ]
  },
  {
   "cell_type": "markdown",
   "metadata": {},
   "source": [
    "# Problema 14"
   ]
  },
  {
   "cell_type": "markdown",
   "metadata": {},
   "source": [
    "Imprima la cantidad de empleados que nacieron en cada uno de los trimestres (`Q1`, `Q2`, `Q3`, `Q4`) del año. Imprima un trimestre por reglón, separando las cantidades por un espacio en blanco. Por ejemplo: `'Q1 18'`. "
   ]
  },
  {
   "cell_type": "code",
   "execution_count": 109,
   "metadata": {},
   "outputs": [
    {
     "name": "stdout",
     "output_type": "stream",
     "text": [
      "Q1 16\n",
      "Q2 9\n",
      "Q3 14\n",
      "Q4 11\n"
     ]
    }
   ],
   "source": [
    "#\n",
    "# escriba su codigo aqui\n",
    "#\n",
    "q1 = ['01','02','03']\n",
    "q2 = ['04','05','06']\n",
    "q3 = ['07','08','09']\n",
    "q4 = ['10','11','12']\n",
    "quart = [0,0,0,0]\n",
    "mes = 0\n",
    "q=1\n",
    "for i in employee[1:]:\n",
    "    mes = i[8].split('-')[1]\n",
    "    if mes in q1:\n",
    "        quart[0] = quart[0] + 1\n",
    "    elif mes in q2:\n",
    "        quart[1] = quart[1] + 1\n",
    "    elif mes in q3:\n",
    "        quart[2] = quart[2] + 1\n",
    "    else:\n",
    "        quart[3] = quart[3] + 1\n",
    "        \n",
    "for j in quart:\n",
    "    print('Q' + str(q) + ' ' + str(j))\n",
    "    q = q + 1"
   ]
  },
  {
   "cell_type": "markdown",
   "metadata": {},
   "source": [
    "# Problema 15"
   ]
  },
  {
   "cell_type": "markdown",
   "metadata": {},
   "source": [
    "Escriba una función que reciba un grupo de cuatro dígitos e imprima la cantidad de veces que aparece dicho número en el segundo grupo de dígitos de todos los números telefónicos."
   ]
  },
  {
   "cell_type": "code",
   "execution_count": 110,
   "metadata": {
    "collapsed": true
   },
   "outputs": [],
   "source": [
    "def f(num):\n",
    "    #\n",
    "    # escriba su codigo aqui\n",
    "    #\n",
    "    phonemp = []\n",
    "    phonecust = []\n",
    "    phonesupply = []\n",
    "    phone = []\n",
    "    phonemp = phonemp + [x[5].split('-')[1] for x in employee[1:]]\n",
    "    phonecust = phonecust + [y[5].split('-')[1] for y in customer[1:]]\n",
    "    phonesupply = phonesupply + [z[6].split('-')[1] for z in supplier[1:]]\n",
    "    phone = phonemp + phonecust + phonesupply\n",
    "    return phone.count(num)"
   ]
  },
  {
   "cell_type": "code",
   "execution_count": 111,
   "metadata": {},
   "outputs": [
    {
     "name": "stdout",
     "output_type": "stream",
     "text": [
      "23\n",
      "28\n",
      "26\n"
     ]
    }
   ],
   "source": [
    "###__test__\n",
    "print(f('1289'))\n",
    "print(f('2345'))\n",
    "print(f('4876'))"
   ]
  },
  {
   "cell_type": "markdown",
   "metadata": {},
   "source": [
    "---"
   ]
  }
 ],
 "metadata": {
  "kernelspec": {
   "display_name": "Python 3",
   "language": "python",
   "name": "python3"
  },
  "language_info": {
   "codemirror_mode": {
    "name": "ipython",
    "version": 3
   },
   "file_extension": ".py",
   "mimetype": "text/x-python",
   "name": "python",
   "nbconvert_exporter": "python",
   "pygments_lexer": "ipython3",
   "version": "3.6.1"
  }
 },
 "nbformat": 4,
 "nbformat_minor": 1
}
